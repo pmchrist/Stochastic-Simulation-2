{
 "cells": [
  {
   "cell_type": "code",
   "execution_count": 1,
   "metadata": {},
   "outputs": [
    {
     "name": "stdout",
     "output_type": "stream",
     "text": [
      "Average waiting time is:  1.3849256641468108\n",
      "With the Confidence Interval:  1.155021539403155 1.6148297888904666\n",
      "Confidence Interval Size:  0.45980824948731147\n"
     ]
    }
   ],
   "source": [
    "from simpy import *\n",
    "import numpy as np\n",
    "\n",
    "# Confidence Interval calculation\n",
    "from scipy.stats import t\n",
    "def confidence_interval(simulation_results, confidence=0.95, output_results=True):\n",
    "    mean = np.mean(simulation_results)\n",
    "    std = np.std(simulation_results)\n",
    "    degree = len(simulation_results) - 1 \n",
    "    t_crit = np.abs(t.ppf((1-confidence)/2, degree))    # Find the inverse cumulative distribution.\n",
    "    ci = std*t_crit/np.sqrt(len(simulation_results))\n",
    "    if output_results:\n",
    "        print(\"Average waiting time is: \", mean)\n",
    "        conf_int_low = mean-ci\n",
    "        conf_int_high = mean+ci\n",
    "        print(\"With the Confidence Interval: \", conf_int_low, conf_int_high)\n",
    "        print(\"Confidence Interval Size: \", conf_int_high-conf_int_low)\n",
    "        return\n",
    "    else: return mean, ci\n",
    "\n",
    "jobs_to_process = 300   # Max number of customers\n",
    "runtime_limit = 400.0   # Rumtime limit\n",
    "seed = 42               # Seed for simulation\n",
    "\n",
    "# miu\n",
    "job_rate = 10.0   # Mean time in bank\n",
    "# lambda\n",
    "arrival_rate = 5.0  # Mean of arrival process\n",
    "# n\n",
    "servers_amount = 4\n",
    "\n",
    "\n",
    "\n",
    "def Customer(env, name, resources):\n",
    "    arrive = env.now\n",
    "\n",
    "    # Getting Status of Queues\n",
    "    queue_size = []\n",
    "    for queue in resources:\n",
    "        queue_size.append(len(queue.put_queue) + len(queue.users))\n",
    "    #print(\"Current Queues: \", queue_size)\n",
    "\n",
    "    # Choosing a Queue for an arrived Client\n",
    "    choice = np.argmin(queue_size)\n",
    "    \n",
    "    with resources[choice].request() as req:\n",
    "        # Wait for the Server\n",
    "        yield req\n",
    "        waiting_times.append(env.now - arrive)\n",
    "        # Starting the Job\n",
    "        tib = np.random.exponential(job_rate)\n",
    "        yield env.timeout(tib)\n",
    "\n",
    "def Source(env, number, interval, resources):\n",
    "    for i in range(number):\n",
    "        c = Customer(env, 'Customer%02d' % i, resources)\n",
    "        env.process(c)\n",
    "        t = np.random.exponential(interval)\n",
    "        yield env.timeout(t)\n",
    "\n",
    "\n",
    "# Starting Simulation\n",
    "trials = 100\n",
    "np.random.seed(seed)\n",
    "waiting_times_trials = []\n",
    "for i in range(trials):\n",
    "    waiting_times = []      # Waiting times of performed jobs\n",
    "    # Setup trial\n",
    "    env = Environment()\n",
    "    # Creating Queues\n",
    "    resources = []\n",
    "    for n in range (servers_amount):\n",
    "        resources.append(Resource(env))\n",
    "    env.process(Source(env, jobs_to_process, arrival_rate, resources))\n",
    "    env.run(until=runtime_limit)\n",
    "    \n",
    "    waiting_times_trials.append(np.mean(waiting_times))     # Saving Results\n",
    "\n",
    "confidence_interval(waiting_times_trials)"
   ]
  }
 ],
 "metadata": {
  "kernelspec": {
   "display_name": "Python 3.9.13 ('Engine-397')",
   "language": "python",
   "name": "python3"
  },
  "language_info": {
   "codemirror_mode": {
    "name": "ipython",
    "version": 3
   },
   "file_extension": ".py",
   "mimetype": "text/x-python",
   "name": "python",
   "nbconvert_exporter": "python",
   "pygments_lexer": "ipython3",
   "version": "3.9.13"
  },
  "orig_nbformat": 4,
  "vscode": {
   "interpreter": {
    "hash": "73fad955648c4794aae42ffc70d8a037720c1a0f9c2aee2a3c4d30360a3c118b"
   }
  }
 },
 "nbformat": 4,
 "nbformat_minor": 2
}
